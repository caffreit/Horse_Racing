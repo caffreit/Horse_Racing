{
 "cells": [
  {
   "cell_type": "code",
   "execution_count": 1,
   "metadata": {},
   "outputs": [],
   "source": [
    "import numba\n",
    "\n",
    "import datetime\n",
    "import pandas as pd\n",
    "import numpy as np\n",
    "#import pandas_profiling\n",
    "import sys\n",
    "import os\n",
    "\n",
    "import time\n",
    "from datetime import date\n",
    "from datetime import timedelta\n",
    "from datetime import datetime\n",
    "\n",
    "from sklearn.preprocessing import StandardScaler\n",
    "from sklearn.decomposition import PCA\n",
    "from sklearn import neighbors\n",
    "from sklearn.neighbors import NearestNeighbors\n",
    "from sklearn.model_selection import train_test_split\n",
    "from sklearn.neighbors import RadiusNeighborsRegressor\n",
    "from sklearn.neighbors import KNeighborsRegressor\n",
    "from scipy import stats\n",
    "import sklearn.metrics\n",
    "from random import randrange\n",
    "from itertools import chain\n",
    "import random\n",
    "\n",
    "from sklearn.datasets import fetch_mldata\n",
    "from sklearn.decomposition import PCA\n",
    "from sklearn.manifold import TSNE\n",
    "\n",
    "import seaborn as sns\n",
    "import matplotlib.pyplot as plt\n",
    "%matplotlib inline\n",
    "sns.set(font_scale=2)\n",
    "\n",
    "pd.set_option('display.max_columns', 600)\n",
    "pd.set_option('display.max_rows', 600)"
   ]
  },
  {
   "cell_type": "code",
   "execution_count": 2,
   "metadata": {},
   "outputs": [
    {
     "name": "stderr",
     "output_type": "stream",
     "text": [
      "c:\\users\\admin\\appdata\\local\\programs\\python\\python36\\lib\\site-packages\\IPython\\core\\interactiveshell.py:3020: DtypeWarning: Columns (546) have mixed types. Specify dtype option on import or set low_memory=False.\n",
      "  interactivity=interactivity, compiler=compiler, result=result)\n"
     ]
    }
   ],
   "source": [
    "df = pd.read_csv('HORSE_DATA_ORIG.csv')"
   ]
  },
  {
   "cell_type": "markdown",
   "metadata": {},
   "source": [
    "## Dummy columns for Result (Winner/Loser/Removed)"
   ]
  },
  {
   "cell_type": "code",
   "execution_count": 3,
   "metadata": {},
   "outputs": [],
   "source": [
    "df = pd.concat([df,pd.get_dummies(df.HORSE_RESULT)], axis = 1)"
   ]
  },
  {
   "cell_type": "markdown",
   "metadata": {},
   "source": [
    "## Normalised Price and Amnt backed.\n",
    "###      Grouped by race, Feature is normalised to the lowest price and amount backed."
   ]
  },
  {
   "cell_type": "code",
   "execution_count": 4,
   "metadata": {},
   "outputs": [],
   "source": [
    "market_list = df.groupby('MARKETID').count().index.tolist()\n",
    "\n",
    "feat_list = ['AMT_BACKED_1_MIN_OUT',\\\n",
    "             'AMT_BACKED_10_MINS_OUT',\\\n",
    "             'AMT_BACKED_20_MINS_OUT',\\\n",
    "             'AMT_BACKED_2_SECS_OUT',\\\n",
    "             'AMT_BACKED_30_MINS_OUT',\\\n",
    "             'AMT_BACKED_40_MINS_OUT',\\\n",
    "             'AMT_BACKED_45_MINS_OUT',\\\n",
    "             'AMT_BACKED_5_MINS_OUT',\\\n",
    "             'AMT_BACKED_60_MINS_OUT',\\\n",
    "             'PRICE_10_MINS_OUT',\\\n",
    "             'PRICE_1_MIN_OUT',\\\n",
    "             'PRICE_20_MINS_OUT',\\\n",
    "             'PRICE_2_SECS_OUT',\\\n",
    "             'PRICE_30_MINS_OUT',\\\n",
    "             'PRICE_40_MINS_OUT',\\\n",
    "             'PRICE_45_MINS_OUT',\\\n",
    "             'PRICE_5_MINS_OUT',\\\n",
    "             'PRICE_60_MINS_OUT',\\\n",
    "             'BACKPRICE']\n",
    "\n",
    "for feat in feat_list:\n",
    "\n",
    "    met_list = []\n",
    "    for m_ID in market_list:\n",
    "\n",
    "        fav_price = df[df.MARKETID == m_ID][feat].min()\n",
    "        met_list.append((df[df.MARKETID == m_ID][feat]/fav_price).tolist())\n",
    "\n",
    "    met_list = list(chain.from_iterable(met_list))\n",
    "\n",
    "    df[feat + '_NORM'] = met_list"
   ]
  },
  {
   "cell_type": "markdown",
   "metadata": {},
   "source": [
    "## Horse Form split into separate columns.\n",
    "### Race 1 is the most recent race.\n",
    "\n",
    "### link explainging the letter meanings in horse form.\n",
    "https://help.racingpost.com/hc/en-us/articles/115001699689-Abbreviations-on-the-racecard"
   ]
  },
  {
   "cell_type": "code",
   "execution_count": 9,
   "metadata": {},
   "outputs": [],
   "source": [
    "df.HORSE_FORM = df.HORSE_FORM.fillna('0')\n",
    "\n",
    "def form_split(form):\n",
    "    s = ''\n",
    "\n",
    "    for i in range(6):\n",
    "        try:\n",
    "            s = s + list(form)[i] + ' '\n",
    "        except:\n",
    "            s = s + '0 '\n",
    "    return s\n",
    "\n",
    "df['HORSE_FORM'] = df.apply(lambda row: form_split(row['HORSE_FORM']), axis=1)\n",
    "\n",
    "\n",
    "df[['Race_6','Race_5','Race_4','Race_3','Race_2','Race_1']] = df.HORSE_FORM.str.split(\" \",n = 5, expand=True,)"
   ]
  },
  {
   "cell_type": "code",
   "execution_count": null,
   "metadata": {},
   "outputs": [],
   "source": []
  },
  {
   "cell_type": "markdown",
   "metadata": {},
   "source": [
    "## Trainer/Jockey/Owner Ranking/Score Elo points...."
   ]
  },
  {
   "cell_type": "code",
   "execution_count": null,
   "metadata": {},
   "outputs": [],
   "source": []
  },
  {
   "cell_type": "code",
   "execution_count": null,
   "metadata": {},
   "outputs": [],
   "source": []
  },
  {
   "cell_type": "code",
   "execution_count": null,
   "metadata": {},
   "outputs": [],
   "source": []
  },
  {
   "cell_type": "code",
   "execution_count": null,
   "metadata": {},
   "outputs": [],
   "source": []
  },
  {
   "cell_type": "code",
   "execution_count": null,
   "metadata": {},
   "outputs": [],
   "source": []
  },
  {
   "cell_type": "code",
   "execution_count": 10,
   "metadata": {},
   "outputs": [],
   "source": [
    "df.to_csv('HORSE_DATA_MOD.csv')"
   ]
  },
  {
   "cell_type": "code",
   "execution_count": null,
   "metadata": {},
   "outputs": [],
   "source": []
  },
  {
   "cell_type": "code",
   "execution_count": null,
   "metadata": {},
   "outputs": [],
   "source": []
  },
  {
   "cell_type": "code",
   "execution_count": null,
   "metadata": {},
   "outputs": [],
   "source": []
  },
  {
   "cell_type": "code",
   "execution_count": null,
   "metadata": {},
   "outputs": [],
   "source": []
  },
  {
   "cell_type": "code",
   "execution_count": null,
   "metadata": {},
   "outputs": [],
   "source": []
  },
  {
   "cell_type": "code",
   "execution_count": null,
   "metadata": {},
   "outputs": [],
   "source": []
  }
 ],
 "metadata": {
  "kernelspec": {
   "display_name": "Python 3",
   "language": "python",
   "name": "python3"
  },
  "language_info": {
   "codemirror_mode": {
    "name": "ipython",
    "version": 3
   },
   "file_extension": ".py",
   "mimetype": "text/x-python",
   "name": "python",
   "nbconvert_exporter": "python",
   "pygments_lexer": "ipython3",
   "version": "3.6.5"
  }
 },
 "nbformat": 4,
 "nbformat_minor": 2
}
